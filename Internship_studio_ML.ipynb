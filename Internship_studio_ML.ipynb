{
  "nbformat": 4,
  "nbformat_minor": 0,
  "metadata": {
    "colab": {
      "name": "Internship_studio_ML",
      "provenance": [],
      "collapsed_sections": [],
      "mount_file_id": "1-vouF8nyQHJ2vbzzU8-w3541TtEPZvpU",
      "authorship_tag": "ABX9TyMU1eWAxOfFa9fnPhANeTfp",
      "include_colab_link": true
    },
    "kernelspec": {
      "name": "python3",
      "display_name": "Python 3"
    }
  },
  "cells": [
    {
      "cell_type": "markdown",
      "metadata": {
        "id": "view-in-github",
        "colab_type": "text"
      },
      "source": [
        "<a href=\"https://colab.research.google.com/github/Ashwith25/Marketing-Campaign-for-Banking-Products/blob/master/Internship_studio_ML.ipynb\" target=\"_parent\"><img src=\"https://colab.research.google.com/assets/colab-badge.svg\" alt=\"Open In Colab\"/></a>"
      ]
    },
    {
      "cell_type": "markdown",
      "metadata": {
        "id": "VEllk-qL5uDR",
        "colab_type": "text"
      },
      "source": [
        "# Marketing Campaign for Banking Products\n"
      ]
    },
    {
      "cell_type": "markdown",
      "metadata": {
        "id": "SLH1YK7TLwqG",
        "colab_type": "text"
      },
      "source": [
        "The bank has a growing customer base. The bank wants to increase borrowers (asset\n",
        "customers) base to bring in more loan business and earn more through the interest on\n",
        "loans. So , the bank wants to convert the liability based customers to personal loan\n",
        "customers. (while retaining them as depositors). A campaign that the bank ran last year\n",
        "for liability customers showed a healthy conversion rate of over 9% success. The\n",
        "department wants you to build a model that will help them identify the potential\n",
        "customers who have a higher probability of purchasing the loan. This will increase the\n",
        "success ratio while at the same time reduce the cost of the campaign."
      ]
    },
    {
      "cell_type": "markdown",
      "metadata": {
        "id": "inaDHhzeL5FA",
        "colab_type": "text"
      },
      "source": [
        "<b> To deal with this problem, we will split the process into 9 steps for better understanding.\n"
      ]
    },
    {
      "cell_type": "markdown",
      "metadata": {
        "id": "dT_pGr8OMDh4",
        "colab_type": "text"
      },
      "source": [
        "1. Import the datasets and libraries, check datatype, statistical summary, shape, null\n",
        "values etc"
      ]
    },
    {
      "cell_type": "markdown",
      "metadata": {
        "id": "u4_3_GjLMWFv",
        "colab_type": "text"
      },
      "source": [
        "We will be importing all the necessary libraries which will be required in our project.\n",
        "- numpy and pandas for data analysis.\n",
        "- matplotlib for drawing graphs"
      ]
    },
    {
      "cell_type": "code",
      "metadata": {
        "id": "kO4eLsQB5vpl",
        "colab_type": "code",
        "colab": {}
      },
      "source": [
        "import numpy as np\n",
        "import pandas as pd\n",
        "import matplotlib.pyplot as plot\n",
        "%matplotlib inline"
      ],
      "execution_count": 1,
      "outputs": []
    },
    {
      "cell_type": "markdown",
      "metadata": {
        "id": "FEvbJaZtMtEC",
        "colab_type": "text"
      },
      "source": [
        "Now we will be importing out CSV file which have the necessary data. Let's have a quick look on the data."
      ]
    },
    {
      "cell_type": "code",
      "metadata": {
        "id": "KabAhBFO6JCe",
        "colab_type": "code",
        "colab": {
          "base_uri": "https://localhost:8080/",
          "height": 223
        },
        "outputId": "117f9b48-9e88-4c34-c92b-421548bec4ef"
      },
      "source": [
        "content = pd.read_csv(\"/content/drive/My Drive/internship_studio_project.csv\")\n",
        "content.head()"
      ],
      "execution_count": 2,
      "outputs": [
        {
          "output_type": "execute_result",
          "data": {
            "text/html": [
              "<div>\n",
              "<style scoped>\n",
              "    .dataframe tbody tr th:only-of-type {\n",
              "        vertical-align: middle;\n",
              "    }\n",
              "\n",
              "    .dataframe tbody tr th {\n",
              "        vertical-align: top;\n",
              "    }\n",
              "\n",
              "    .dataframe thead th {\n",
              "        text-align: right;\n",
              "    }\n",
              "</style>\n",
              "<table border=\"1\" class=\"dataframe\">\n",
              "  <thead>\n",
              "    <tr style=\"text-align: right;\">\n",
              "      <th></th>\n",
              "      <th>ID</th>\n",
              "      <th>Age</th>\n",
              "      <th>Experience</th>\n",
              "      <th>Income</th>\n",
              "      <th>ZIP Code</th>\n",
              "      <th>Family</th>\n",
              "      <th>CCAvg</th>\n",
              "      <th>Education</th>\n",
              "      <th>Mortgage</th>\n",
              "      <th>Personal Loan</th>\n",
              "      <th>Securities Account</th>\n",
              "      <th>CD Account</th>\n",
              "      <th>Online</th>\n",
              "      <th>CreditCard</th>\n",
              "    </tr>\n",
              "  </thead>\n",
              "  <tbody>\n",
              "    <tr>\n",
              "      <th>0</th>\n",
              "      <td>1</td>\n",
              "      <td>25</td>\n",
              "      <td>1</td>\n",
              "      <td>49</td>\n",
              "      <td>91107</td>\n",
              "      <td>4</td>\n",
              "      <td>1.6</td>\n",
              "      <td>1</td>\n",
              "      <td>0</td>\n",
              "      <td>0</td>\n",
              "      <td>1</td>\n",
              "      <td>0</td>\n",
              "      <td>0</td>\n",
              "      <td>0</td>\n",
              "    </tr>\n",
              "    <tr>\n",
              "      <th>1</th>\n",
              "      <td>2</td>\n",
              "      <td>45</td>\n",
              "      <td>19</td>\n",
              "      <td>34</td>\n",
              "      <td>90089</td>\n",
              "      <td>3</td>\n",
              "      <td>1.5</td>\n",
              "      <td>1</td>\n",
              "      <td>0</td>\n",
              "      <td>0</td>\n",
              "      <td>1</td>\n",
              "      <td>0</td>\n",
              "      <td>0</td>\n",
              "      <td>0</td>\n",
              "    </tr>\n",
              "    <tr>\n",
              "      <th>2</th>\n",
              "      <td>3</td>\n",
              "      <td>39</td>\n",
              "      <td>15</td>\n",
              "      <td>11</td>\n",
              "      <td>94720</td>\n",
              "      <td>1</td>\n",
              "      <td>1.0</td>\n",
              "      <td>1</td>\n",
              "      <td>0</td>\n",
              "      <td>0</td>\n",
              "      <td>0</td>\n",
              "      <td>0</td>\n",
              "      <td>0</td>\n",
              "      <td>0</td>\n",
              "    </tr>\n",
              "    <tr>\n",
              "      <th>3</th>\n",
              "      <td>4</td>\n",
              "      <td>35</td>\n",
              "      <td>9</td>\n",
              "      <td>100</td>\n",
              "      <td>94112</td>\n",
              "      <td>1</td>\n",
              "      <td>2.7</td>\n",
              "      <td>2</td>\n",
              "      <td>0</td>\n",
              "      <td>0</td>\n",
              "      <td>0</td>\n",
              "      <td>0</td>\n",
              "      <td>0</td>\n",
              "      <td>0</td>\n",
              "    </tr>\n",
              "    <tr>\n",
              "      <th>4</th>\n",
              "      <td>5</td>\n",
              "      <td>35</td>\n",
              "      <td>8</td>\n",
              "      <td>45</td>\n",
              "      <td>91330</td>\n",
              "      <td>4</td>\n",
              "      <td>1.0</td>\n",
              "      <td>2</td>\n",
              "      <td>0</td>\n",
              "      <td>0</td>\n",
              "      <td>0</td>\n",
              "      <td>0</td>\n",
              "      <td>0</td>\n",
              "      <td>1</td>\n",
              "    </tr>\n",
              "  </tbody>\n",
              "</table>\n",
              "</div>"
            ],
            "text/plain": [
              "   ID  Age  Experience  ...  CD Account  Online  CreditCard\n",
              "0   1   25           1  ...           0       0           0\n",
              "1   2   45          19  ...           0       0           0\n",
              "2   3   39          15  ...           0       0           0\n",
              "3   4   35           9  ...           0       0           0\n",
              "4   5   35           8  ...           0       0           1\n",
              "\n",
              "[5 rows x 14 columns]"
            ]
          },
          "metadata": {
            "tags": []
          },
          "execution_count": 2
        }
      ]
    },
    {
      "cell_type": "markdown",
      "metadata": {
        "id": "raVdWiGJMqwJ",
        "colab_type": "text"
      },
      "source": [
        "Now let's see if our data is completely/properly uploaded or not. This can be done either by looking at the shape or by looking at the end of the dataset.\n",
        "Let's first see the end of the dataset."
      ]
    },
    {
      "cell_type": "code",
      "metadata": {
        "id": "7CnQL8pj6pdM",
        "colab_type": "code",
        "colab": {
          "base_uri": "https://localhost:8080/",
          "height": 223
        },
        "outputId": "dcf46a04-ac47-44d9-f8a8-73d0793cf46f"
      },
      "source": [
        "content.tail()"
      ],
      "execution_count": 3,
      "outputs": [
        {
          "output_type": "execute_result",
          "data": {
            "text/html": [
              "<div>\n",
              "<style scoped>\n",
              "    .dataframe tbody tr th:only-of-type {\n",
              "        vertical-align: middle;\n",
              "    }\n",
              "\n",
              "    .dataframe tbody tr th {\n",
              "        vertical-align: top;\n",
              "    }\n",
              "\n",
              "    .dataframe thead th {\n",
              "        text-align: right;\n",
              "    }\n",
              "</style>\n",
              "<table border=\"1\" class=\"dataframe\">\n",
              "  <thead>\n",
              "    <tr style=\"text-align: right;\">\n",
              "      <th></th>\n",
              "      <th>ID</th>\n",
              "      <th>Age</th>\n",
              "      <th>Experience</th>\n",
              "      <th>Income</th>\n",
              "      <th>ZIP Code</th>\n",
              "      <th>Family</th>\n",
              "      <th>CCAvg</th>\n",
              "      <th>Education</th>\n",
              "      <th>Mortgage</th>\n",
              "      <th>Personal Loan</th>\n",
              "      <th>Securities Account</th>\n",
              "      <th>CD Account</th>\n",
              "      <th>Online</th>\n",
              "      <th>CreditCard</th>\n",
              "    </tr>\n",
              "  </thead>\n",
              "  <tbody>\n",
              "    <tr>\n",
              "      <th>4995</th>\n",
              "      <td>4996</td>\n",
              "      <td>29</td>\n",
              "      <td>3</td>\n",
              "      <td>40</td>\n",
              "      <td>92697</td>\n",
              "      <td>1</td>\n",
              "      <td>1.9</td>\n",
              "      <td>3</td>\n",
              "      <td>0</td>\n",
              "      <td>0</td>\n",
              "      <td>0</td>\n",
              "      <td>0</td>\n",
              "      <td>1</td>\n",
              "      <td>0</td>\n",
              "    </tr>\n",
              "    <tr>\n",
              "      <th>4996</th>\n",
              "      <td>4997</td>\n",
              "      <td>30</td>\n",
              "      <td>4</td>\n",
              "      <td>15</td>\n",
              "      <td>92037</td>\n",
              "      <td>4</td>\n",
              "      <td>0.4</td>\n",
              "      <td>1</td>\n",
              "      <td>85</td>\n",
              "      <td>0</td>\n",
              "      <td>0</td>\n",
              "      <td>0</td>\n",
              "      <td>1</td>\n",
              "      <td>0</td>\n",
              "    </tr>\n",
              "    <tr>\n",
              "      <th>4997</th>\n",
              "      <td>4998</td>\n",
              "      <td>63</td>\n",
              "      <td>39</td>\n",
              "      <td>24</td>\n",
              "      <td>93023</td>\n",
              "      <td>2</td>\n",
              "      <td>0.3</td>\n",
              "      <td>3</td>\n",
              "      <td>0</td>\n",
              "      <td>0</td>\n",
              "      <td>0</td>\n",
              "      <td>0</td>\n",
              "      <td>0</td>\n",
              "      <td>0</td>\n",
              "    </tr>\n",
              "    <tr>\n",
              "      <th>4998</th>\n",
              "      <td>4999</td>\n",
              "      <td>65</td>\n",
              "      <td>40</td>\n",
              "      <td>49</td>\n",
              "      <td>90034</td>\n",
              "      <td>3</td>\n",
              "      <td>0.5</td>\n",
              "      <td>2</td>\n",
              "      <td>0</td>\n",
              "      <td>0</td>\n",
              "      <td>0</td>\n",
              "      <td>0</td>\n",
              "      <td>1</td>\n",
              "      <td>0</td>\n",
              "    </tr>\n",
              "    <tr>\n",
              "      <th>4999</th>\n",
              "      <td>5000</td>\n",
              "      <td>28</td>\n",
              "      <td>4</td>\n",
              "      <td>83</td>\n",
              "      <td>92612</td>\n",
              "      <td>3</td>\n",
              "      <td>0.8</td>\n",
              "      <td>1</td>\n",
              "      <td>0</td>\n",
              "      <td>0</td>\n",
              "      <td>0</td>\n",
              "      <td>0</td>\n",
              "      <td>1</td>\n",
              "      <td>1</td>\n",
              "    </tr>\n",
              "  </tbody>\n",
              "</table>\n",
              "</div>"
            ],
            "text/plain": [
              "        ID  Age  Experience  ...  CD Account  Online  CreditCard\n",
              "4995  4996   29           3  ...           0       1           0\n",
              "4996  4997   30           4  ...           0       1           0\n",
              "4997  4998   63          39  ...           0       0           0\n",
              "4998  4999   65          40  ...           0       1           0\n",
              "4999  5000   28           4  ...           0       1           1\n",
              "\n",
              "[5 rows x 14 columns]"
            ]
          },
          "metadata": {
            "tags": []
          },
          "execution_count": 3
        }
      ]
    },
    {
      "cell_type": "markdown",
      "metadata": {
        "id": "mRKFhOSNPQwv",
        "colab_type": "text"
      },
      "source": [
        "To check the shape of the dataset, <b>shape</b> variable is used."
      ]
    },
    {
      "cell_type": "code",
      "metadata": {
        "id": "d0MlbeArAcM7",
        "colab_type": "code",
        "colab": {
          "base_uri": "https://localhost:8080/",
          "height": 36
        },
        "outputId": "9a2458a5-3f3d-41c3-898a-4a09fe7e8e67"
      },
      "source": [
        "content.shape"
      ],
      "execution_count": 4,
      "outputs": [
        {
          "output_type": "execute_result",
          "data": {
            "text/plain": [
              "(5000, 14)"
            ]
          },
          "metadata": {
            "tags": []
          },
          "execution_count": 4
        }
      ]
    },
    {
      "cell_type": "markdown",
      "metadata": {
        "id": "3N2hGkA4NZVK",
        "colab_type": "text"
      },
      "source": [
        "It is necessary to initially check if all the data is proper or not. This we can do using <b>describe()</b>. This returns us all the necessary data such as mean, standard deviation, min, max, etc. "
      ]
    },
    {
      "cell_type": "code",
      "metadata": {
        "id": "6OHZ-ugD7IqZ",
        "colab_type": "code",
        "colab": {
          "base_uri": "https://localhost:8080/",
          "height": 337
        },
        "outputId": "8192c0f8-4b63-407d-a8ce-af5a17f442eb"
      },
      "source": [
        "content.describe()"
      ],
      "execution_count": 5,
      "outputs": [
        {
          "output_type": "execute_result",
          "data": {
            "text/html": [
              "<div>\n",
              "<style scoped>\n",
              "    .dataframe tbody tr th:only-of-type {\n",
              "        vertical-align: middle;\n",
              "    }\n",
              "\n",
              "    .dataframe tbody tr th {\n",
              "        vertical-align: top;\n",
              "    }\n",
              "\n",
              "    .dataframe thead th {\n",
              "        text-align: right;\n",
              "    }\n",
              "</style>\n",
              "<table border=\"1\" class=\"dataframe\">\n",
              "  <thead>\n",
              "    <tr style=\"text-align: right;\">\n",
              "      <th></th>\n",
              "      <th>ID</th>\n",
              "      <th>Age</th>\n",
              "      <th>Experience</th>\n",
              "      <th>Income</th>\n",
              "      <th>ZIP Code</th>\n",
              "      <th>Family</th>\n",
              "      <th>CCAvg</th>\n",
              "      <th>Education</th>\n",
              "      <th>Mortgage</th>\n",
              "      <th>Personal Loan</th>\n",
              "      <th>Securities Account</th>\n",
              "      <th>CD Account</th>\n",
              "      <th>Online</th>\n",
              "      <th>CreditCard</th>\n",
              "    </tr>\n",
              "  </thead>\n",
              "  <tbody>\n",
              "    <tr>\n",
              "      <th>count</th>\n",
              "      <td>5000.000000</td>\n",
              "      <td>5000.000000</td>\n",
              "      <td>5000.000000</td>\n",
              "      <td>5000.000000</td>\n",
              "      <td>5000.000000</td>\n",
              "      <td>5000.000000</td>\n",
              "      <td>5000.000000</td>\n",
              "      <td>5000.000000</td>\n",
              "      <td>5000.000000</td>\n",
              "      <td>5000.000000</td>\n",
              "      <td>5000.000000</td>\n",
              "      <td>5000.00000</td>\n",
              "      <td>5000.000000</td>\n",
              "      <td>5000.000000</td>\n",
              "    </tr>\n",
              "    <tr>\n",
              "      <th>mean</th>\n",
              "      <td>2500.500000</td>\n",
              "      <td>45.338400</td>\n",
              "      <td>20.104600</td>\n",
              "      <td>73.774200</td>\n",
              "      <td>93152.503000</td>\n",
              "      <td>2.396400</td>\n",
              "      <td>1.937938</td>\n",
              "      <td>1.881000</td>\n",
              "      <td>56.498800</td>\n",
              "      <td>0.096000</td>\n",
              "      <td>0.104400</td>\n",
              "      <td>0.06040</td>\n",
              "      <td>0.596800</td>\n",
              "      <td>0.294000</td>\n",
              "    </tr>\n",
              "    <tr>\n",
              "      <th>std</th>\n",
              "      <td>1443.520003</td>\n",
              "      <td>11.463166</td>\n",
              "      <td>11.467954</td>\n",
              "      <td>46.033729</td>\n",
              "      <td>2121.852197</td>\n",
              "      <td>1.147663</td>\n",
              "      <td>1.747659</td>\n",
              "      <td>0.839869</td>\n",
              "      <td>101.713802</td>\n",
              "      <td>0.294621</td>\n",
              "      <td>0.305809</td>\n",
              "      <td>0.23825</td>\n",
              "      <td>0.490589</td>\n",
              "      <td>0.455637</td>\n",
              "    </tr>\n",
              "    <tr>\n",
              "      <th>min</th>\n",
              "      <td>1.000000</td>\n",
              "      <td>23.000000</td>\n",
              "      <td>-3.000000</td>\n",
              "      <td>8.000000</td>\n",
              "      <td>9307.000000</td>\n",
              "      <td>1.000000</td>\n",
              "      <td>0.000000</td>\n",
              "      <td>1.000000</td>\n",
              "      <td>0.000000</td>\n",
              "      <td>0.000000</td>\n",
              "      <td>0.000000</td>\n",
              "      <td>0.00000</td>\n",
              "      <td>0.000000</td>\n",
              "      <td>0.000000</td>\n",
              "    </tr>\n",
              "    <tr>\n",
              "      <th>25%</th>\n",
              "      <td>1250.750000</td>\n",
              "      <td>35.000000</td>\n",
              "      <td>10.000000</td>\n",
              "      <td>39.000000</td>\n",
              "      <td>91911.000000</td>\n",
              "      <td>1.000000</td>\n",
              "      <td>0.700000</td>\n",
              "      <td>1.000000</td>\n",
              "      <td>0.000000</td>\n",
              "      <td>0.000000</td>\n",
              "      <td>0.000000</td>\n",
              "      <td>0.00000</td>\n",
              "      <td>0.000000</td>\n",
              "      <td>0.000000</td>\n",
              "    </tr>\n",
              "    <tr>\n",
              "      <th>50%</th>\n",
              "      <td>2500.500000</td>\n",
              "      <td>45.000000</td>\n",
              "      <td>20.000000</td>\n",
              "      <td>64.000000</td>\n",
              "      <td>93437.000000</td>\n",
              "      <td>2.000000</td>\n",
              "      <td>1.500000</td>\n",
              "      <td>2.000000</td>\n",
              "      <td>0.000000</td>\n",
              "      <td>0.000000</td>\n",
              "      <td>0.000000</td>\n",
              "      <td>0.00000</td>\n",
              "      <td>1.000000</td>\n",
              "      <td>0.000000</td>\n",
              "    </tr>\n",
              "    <tr>\n",
              "      <th>75%</th>\n",
              "      <td>3750.250000</td>\n",
              "      <td>55.000000</td>\n",
              "      <td>30.000000</td>\n",
              "      <td>98.000000</td>\n",
              "      <td>94608.000000</td>\n",
              "      <td>3.000000</td>\n",
              "      <td>2.500000</td>\n",
              "      <td>3.000000</td>\n",
              "      <td>101.000000</td>\n",
              "      <td>0.000000</td>\n",
              "      <td>0.000000</td>\n",
              "      <td>0.00000</td>\n",
              "      <td>1.000000</td>\n",
              "      <td>1.000000</td>\n",
              "    </tr>\n",
              "    <tr>\n",
              "      <th>max</th>\n",
              "      <td>5000.000000</td>\n",
              "      <td>67.000000</td>\n",
              "      <td>43.000000</td>\n",
              "      <td>224.000000</td>\n",
              "      <td>96651.000000</td>\n",
              "      <td>4.000000</td>\n",
              "      <td>10.000000</td>\n",
              "      <td>3.000000</td>\n",
              "      <td>635.000000</td>\n",
              "      <td>1.000000</td>\n",
              "      <td>1.000000</td>\n",
              "      <td>1.00000</td>\n",
              "      <td>1.000000</td>\n",
              "      <td>1.000000</td>\n",
              "    </tr>\n",
              "  </tbody>\n",
              "</table>\n",
              "</div>"
            ],
            "text/plain": [
              "                ID          Age  ...       Online   CreditCard\n",
              "count  5000.000000  5000.000000  ...  5000.000000  5000.000000\n",
              "mean   2500.500000    45.338400  ...     0.596800     0.294000\n",
              "std    1443.520003    11.463166  ...     0.490589     0.455637\n",
              "min       1.000000    23.000000  ...     0.000000     0.000000\n",
              "25%    1250.750000    35.000000  ...     0.000000     0.000000\n",
              "50%    2500.500000    45.000000  ...     1.000000     0.000000\n",
              "75%    3750.250000    55.000000  ...     1.000000     1.000000\n",
              "max    5000.000000    67.000000  ...     1.000000     1.000000\n",
              "\n",
              "[8 rows x 14 columns]"
            ]
          },
          "metadata": {
            "tags": []
          },
          "execution_count": 5
        }
      ]
    },
    {
      "cell_type": "markdown",
      "metadata": {
        "id": "ONQn5jnkOI_S",
        "colab_type": "text"
      },
      "source": [
        "As we can see in the _Experience_ column, the <b>min</b> value is -3 which is not possible. This indicates that the cleaning of the data must be done. \n",
        "\n",
        "In a similar way as that of <b>describe()</b>, we can also see the datatypes and non-null value count by using an in-built function called <b>info()</b>. This will return the count of non-null values along with the datatype of thaat particular column."
      ]
    },
    {
      "cell_type": "code",
      "metadata": {
        "id": "C2_6ldrI7Mam",
        "colab_type": "code",
        "colab": {
          "base_uri": "https://localhost:8080/",
          "height": 410
        },
        "outputId": "b7ab5412-0e41-4c1b-a90c-035153b30295"
      },
      "source": [
        "content.info()"
      ],
      "execution_count": 6,
      "outputs": [
        {
          "output_type": "stream",
          "text": [
            "<class 'pandas.core.frame.DataFrame'>\n",
            "RangeIndex: 5000 entries, 0 to 4999\n",
            "Data columns (total 14 columns):\n",
            " #   Column              Non-Null Count  Dtype  \n",
            "---  ------              --------------  -----  \n",
            " 0   ID                  5000 non-null   int64  \n",
            " 1   Age                 5000 non-null   int64  \n",
            " 2   Experience          5000 non-null   int64  \n",
            " 3   Income              5000 non-null   int64  \n",
            " 4   ZIP Code            5000 non-null   int64  \n",
            " 5   Family              5000 non-null   int64  \n",
            " 6   CCAvg               5000 non-null   float64\n",
            " 7   Education           5000 non-null   int64  \n",
            " 8   Mortgage            5000 non-null   int64  \n",
            " 9   Personal Loan       5000 non-null   int64  \n",
            " 10  Securities Account  5000 non-null   int64  \n",
            " 11  CD Account          5000 non-null   int64  \n",
            " 12  Online              5000 non-null   int64  \n",
            " 13  CreditCard          5000 non-null   int64  \n",
            "dtypes: float64(1), int64(13)\n",
            "memory usage: 547.0 KB\n"
          ],
          "name": "stdout"
        }
      ]
    },
    {
      "cell_type": "markdown",
      "metadata": {
        "id": "HNwxxSqCPeCh",
        "colab_type": "text"
      },
      "source": [
        "This completes our 1st step. All the necessary libraries are imported. We saw what all are the attributes of our Columns, based upon which some decisons were also taken where cleaning of the data is to be done as the _Experience_ column had some wrong data. \n",
        "\n"
      ]
    },
    {
      "cell_type": "markdown",
      "metadata": {
        "id": "hbuVEEt6Ra1_",
        "colab_type": "text"
      },
      "source": [
        "Now let's move onto our 2nd step."
      ]
    },
    {
      "cell_type": "markdown",
      "metadata": {
        "id": "1PkDhQSXRf_x",
        "colab_type": "text"
      },
      "source": [
        "2. Check if you need to clean the data for any of the variables"
      ]
    },
    {
      "cell_type": "markdown",
      "metadata": {
        "id": "y9VIuYdLRjdh",
        "colab_type": "text"
      },
      "source": [
        "Firstly, let's first remove all the data which had wrong _Experience_.</br>\n",
        "This we will be storing in a new variable."
      ]
    },
    {
      "cell_type": "code",
      "metadata": {
        "id": "_6PeGqBA1A37",
        "colab_type": "code",
        "colab": {
          "base_uri": "https://localhost:8080/",
          "height": 298
        },
        "outputId": "a7c52817-0230-4836-c9f6-056626b131cb"
      },
      "source": [
        "content.isnull().sum()"
      ],
      "execution_count": 7,
      "outputs": [
        {
          "output_type": "execute_result",
          "data": {
            "text/plain": [
              "ID                    0\n",
              "Age                   0\n",
              "Experience            0\n",
              "Income                0\n",
              "ZIP Code              0\n",
              "Family                0\n",
              "CCAvg                 0\n",
              "Education             0\n",
              "Mortgage              0\n",
              "Personal Loan         0\n",
              "Securities Account    0\n",
              "CD Account            0\n",
              "Online                0\n",
              "CreditCard            0\n",
              "dtype: int64"
            ]
          },
          "metadata": {
            "tags": []
          },
          "execution_count": 7
        }
      ]
    },
    {
      "cell_type": "code",
      "metadata": {
        "id": "h_3cPRBCAalO",
        "colab_type": "code",
        "colab": {}
      },
      "source": [
        "new_content = content.where(content[\"Experience\"]>=0).dropna()"
      ],
      "execution_count": 8,
      "outputs": []
    },
    {
      "cell_type": "markdown",
      "metadata": {
        "id": "p6ASyzCBSBHF",
        "colab_type": "text"
      },
      "source": [
        "Now let's see if our data is ready to be used or not by using <b>describe()</b> as used earlier."
      ]
    },
    {
      "cell_type": "code",
      "metadata": {
        "id": "R92p-ZrZJ4W6",
        "colab_type": "code",
        "colab": {
          "base_uri": "https://localhost:8080/",
          "height": 337
        },
        "outputId": "41ae9ade-9519-4020-c93c-753d8d2beb7a"
      },
      "source": [
        "new_content.describe()"
      ],
      "execution_count": 9,
      "outputs": [
        {
          "output_type": "execute_result",
          "data": {
            "text/html": [
              "<div>\n",
              "<style scoped>\n",
              "    .dataframe tbody tr th:only-of-type {\n",
              "        vertical-align: middle;\n",
              "    }\n",
              "\n",
              "    .dataframe tbody tr th {\n",
              "        vertical-align: top;\n",
              "    }\n",
              "\n",
              "    .dataframe thead th {\n",
              "        text-align: right;\n",
              "    }\n",
              "</style>\n",
              "<table border=\"1\" class=\"dataframe\">\n",
              "  <thead>\n",
              "    <tr style=\"text-align: right;\">\n",
              "      <th></th>\n",
              "      <th>ID</th>\n",
              "      <th>Age</th>\n",
              "      <th>Experience</th>\n",
              "      <th>Income</th>\n",
              "      <th>ZIP Code</th>\n",
              "      <th>Family</th>\n",
              "      <th>CCAvg</th>\n",
              "      <th>Education</th>\n",
              "      <th>Mortgage</th>\n",
              "      <th>Personal Loan</th>\n",
              "      <th>Securities Account</th>\n",
              "      <th>CD Account</th>\n",
              "      <th>Online</th>\n",
              "      <th>CreditCard</th>\n",
              "    </tr>\n",
              "  </thead>\n",
              "  <tbody>\n",
              "    <tr>\n",
              "      <th>count</th>\n",
              "      <td>4948.000000</td>\n",
              "      <td>4948.000000</td>\n",
              "      <td>4948.000000</td>\n",
              "      <td>4948.000000</td>\n",
              "      <td>4948.000000</td>\n",
              "      <td>4948.000000</td>\n",
              "      <td>4948.000000</td>\n",
              "      <td>4948.000000</td>\n",
              "      <td>4948.000000</td>\n",
              "      <td>4948.000000</td>\n",
              "      <td>4948.000000</td>\n",
              "      <td>4948.000000</td>\n",
              "      <td>4948.000000</td>\n",
              "      <td>4948.000000</td>\n",
              "    </tr>\n",
              "    <tr>\n",
              "      <th>mean</th>\n",
              "      <td>2501.268795</td>\n",
              "      <td>45.557195</td>\n",
              "      <td>20.331043</td>\n",
              "      <td>73.814470</td>\n",
              "      <td>93151.573363</td>\n",
              "      <td>2.391471</td>\n",
              "      <td>1.935926</td>\n",
              "      <td>1.878941</td>\n",
              "      <td>56.634398</td>\n",
              "      <td>0.097009</td>\n",
              "      <td>0.104285</td>\n",
              "      <td>0.061035</td>\n",
              "      <td>0.597009</td>\n",
              "      <td>0.294058</td>\n",
              "    </tr>\n",
              "    <tr>\n",
              "      <th>std</th>\n",
              "      <td>1443.277676</td>\n",
              "      <td>11.320735</td>\n",
              "      <td>11.311973</td>\n",
              "      <td>46.112596</td>\n",
              "      <td>2126.669017</td>\n",
              "      <td>1.148444</td>\n",
              "      <td>1.747694</td>\n",
              "      <td>0.839745</td>\n",
              "      <td>101.828885</td>\n",
              "      <td>0.296000</td>\n",
              "      <td>0.305660</td>\n",
              "      <td>0.239418</td>\n",
              "      <td>0.490549</td>\n",
              "      <td>0.455664</td>\n",
              "    </tr>\n",
              "    <tr>\n",
              "      <th>min</th>\n",
              "      <td>1.000000</td>\n",
              "      <td>24.000000</td>\n",
              "      <td>0.000000</td>\n",
              "      <td>8.000000</td>\n",
              "      <td>9307.000000</td>\n",
              "      <td>1.000000</td>\n",
              "      <td>0.000000</td>\n",
              "      <td>1.000000</td>\n",
              "      <td>0.000000</td>\n",
              "      <td>0.000000</td>\n",
              "      <td>0.000000</td>\n",
              "      <td>0.000000</td>\n",
              "      <td>0.000000</td>\n",
              "      <td>0.000000</td>\n",
              "    </tr>\n",
              "    <tr>\n",
              "      <th>25%</th>\n",
              "      <td>1254.750000</td>\n",
              "      <td>36.000000</td>\n",
              "      <td>10.750000</td>\n",
              "      <td>39.000000</td>\n",
              "      <td>91911.000000</td>\n",
              "      <td>1.000000</td>\n",
              "      <td>0.700000</td>\n",
              "      <td>1.000000</td>\n",
              "      <td>0.000000</td>\n",
              "      <td>0.000000</td>\n",
              "      <td>0.000000</td>\n",
              "      <td>0.000000</td>\n",
              "      <td>0.000000</td>\n",
              "      <td>0.000000</td>\n",
              "    </tr>\n",
              "    <tr>\n",
              "      <th>50%</th>\n",
              "      <td>2497.500000</td>\n",
              "      <td>46.000000</td>\n",
              "      <td>20.000000</td>\n",
              "      <td>64.000000</td>\n",
              "      <td>93437.000000</td>\n",
              "      <td>2.000000</td>\n",
              "      <td>1.500000</td>\n",
              "      <td>2.000000</td>\n",
              "      <td>0.000000</td>\n",
              "      <td>0.000000</td>\n",
              "      <td>0.000000</td>\n",
              "      <td>0.000000</td>\n",
              "      <td>1.000000</td>\n",
              "      <td>0.000000</td>\n",
              "    </tr>\n",
              "    <tr>\n",
              "      <th>75%</th>\n",
              "      <td>3750.250000</td>\n",
              "      <td>55.000000</td>\n",
              "      <td>30.000000</td>\n",
              "      <td>98.000000</td>\n",
              "      <td>94608.000000</td>\n",
              "      <td>3.000000</td>\n",
              "      <td>2.600000</td>\n",
              "      <td>3.000000</td>\n",
              "      <td>101.000000</td>\n",
              "      <td>0.000000</td>\n",
              "      <td>0.000000</td>\n",
              "      <td>0.000000</td>\n",
              "      <td>1.000000</td>\n",
              "      <td>1.000000</td>\n",
              "    </tr>\n",
              "    <tr>\n",
              "      <th>max</th>\n",
              "      <td>5000.000000</td>\n",
              "      <td>67.000000</td>\n",
              "      <td>43.000000</td>\n",
              "      <td>224.000000</td>\n",
              "      <td>96651.000000</td>\n",
              "      <td>4.000000</td>\n",
              "      <td>10.000000</td>\n",
              "      <td>3.000000</td>\n",
              "      <td>635.000000</td>\n",
              "      <td>1.000000</td>\n",
              "      <td>1.000000</td>\n",
              "      <td>1.000000</td>\n",
              "      <td>1.000000</td>\n",
              "      <td>1.000000</td>\n",
              "    </tr>\n",
              "  </tbody>\n",
              "</table>\n",
              "</div>"
            ],
            "text/plain": [
              "                ID          Age  ...       Online   CreditCard\n",
              "count  4948.000000  4948.000000  ...  4948.000000  4948.000000\n",
              "mean   2501.268795    45.557195  ...     0.597009     0.294058\n",
              "std    1443.277676    11.320735  ...     0.490549     0.455664\n",
              "min       1.000000    24.000000  ...     0.000000     0.000000\n",
              "25%    1254.750000    36.000000  ...     0.000000     0.000000\n",
              "50%    2497.500000    46.000000  ...     1.000000     0.000000\n",
              "75%    3750.250000    55.000000  ...     1.000000     1.000000\n",
              "max    5000.000000    67.000000  ...     1.000000     1.000000\n",
              "\n",
              "[8 rows x 14 columns]"
            ]
          },
          "metadata": {
            "tags": []
          },
          "execution_count": 9
        }
      ]
    },
    {
      "cell_type": "markdown",
      "metadata": {
        "id": "rfY6PnPrSah4",
        "colab_type": "text"
      },
      "source": [
        "As our aim is to predict whether a customer would opt for _Personal Loan_ or not, we will separate it from our dataset and store it in some other variable.<br>\n",
        "The deletion of a column can be done using <b>drop()</b>. The _axis_ is set to 1 as the iteration is to be done on a column. The _inplace_ parameter saves the changes to the original dataset."
      ]
    },
    {
      "cell_type": "code",
      "metadata": {
        "id": "oD3Ss7Np7Pof",
        "colab_type": "code",
        "colab": {}
      },
      "source": [
        "personal_loan = new_content[\"Personal Loan\"]\n",
        "new_content.drop(\"Personal Loan\", axis=1, inplace=True)"
      ],
      "execution_count": 10,
      "outputs": []
    },
    {
      "cell_type": "markdown",
      "metadata": {
        "id": "pLAx6DeSTb2j",
        "colab_type": "text"
      },
      "source": [
        "As _ID_ will be different for each customer, it has nothing to with the customer taking the loan. So it is acting as noise in our dataset. Hence it will be better if removed. <br><br>\n",
        "To check the significance of a column, we can check their correlation factor."
      ]
    },
    {
      "cell_type": "code",
      "metadata": {
        "id": "cRQ9bKuH-qfO",
        "colab_type": "code",
        "colab": {
          "base_uri": "https://localhost:8080/",
          "height": 260
        },
        "outputId": "6849d85c-9414-4d59-ada1-f6d529566977"
      },
      "source": [
        "for i in new_content.columns:\n",
        "    print(f\"Correlation between {i} and Personal Loan is\",new_content[i].corr(personal_loan))"
      ],
      "execution_count": 11,
      "outputs": [
        {
          "output_type": "stream",
          "text": [
            "Correlation between ID and Personal Loan is -0.025123894301036828\n",
            "Correlation between Age and Personal Loan is -0.014203560746489142\n",
            "Correlation between Experience and Personal Loan is -0.01412080970301723\n",
            "Correlation between Income and Personal Loan is 0.5042276559680586\n",
            "Correlation between ZIP Code and Personal Loan is 0.0002510467178026715\n",
            "Correlation between Family and Personal Loan is 0.06308797762627483\n",
            "Correlation between CCAvg and Personal Loan is 0.36938792955748107\n",
            "Correlation between Education and Personal Loan is 0.1383390364475152\n",
            "Correlation between Mortgage and Personal Loan is 0.14232184189537317\n",
            "Correlation between Securities Account and Personal Loan is 0.022215862315837633\n",
            "Correlation between CD Account and Personal Loan is 0.31576939842819973\n",
            "Correlation between Online and Personal Loan is 0.006175184362285571\n",
            "Correlation between CreditCard and Personal Loan is 0.002775729174601692\n"
          ],
          "name": "stdout"
        }
      ]
    },
    {
      "cell_type": "markdown",
      "metadata": {
        "id": "9KAPEoLwUgB5",
        "colab_type": "text"
      },
      "source": [
        "As we can see, _ID, Age_ and _Experience_ are hardly even related to our target variable. _Income_ plays a important role in customer taking the personal loan. So we can drop the noisy columns (_ID, Age_ and _Experience_) to make our prediction for efficient."
      ]
    },
    {
      "cell_type": "code",
      "metadata": {
        "id": "7Yf8adJKVZvb",
        "colab_type": "code",
        "colab": {}
      },
      "source": [
        "new_content.drop([\"ID\", \"Age\", \"Experience\"], axis=1, inplace=True)\n",
        "new_content"
      ],
      "execution_count": null,
      "outputs": []
    },
    {
      "cell_type": "markdown",
      "metadata": {
        "id": "653V0ySsyYwF",
        "colab_type": "text"
      },
      "source": [
        "This completes are 2nd step. Till now we have imported the necessary libraries and cleaned our data.<br><br>\n",
        "Now let's move on to step 3 where we'll be studying our dataset."
      ]
    },
    {
      "cell_type": "code",
      "metadata": {
        "id": "UqB8eN2KyvFb",
        "colab_type": "code",
        "colab": {}
      },
      "source": [
        "for i in new_content.columns:\n",
        "    print(f\"Unique elements of {i} are {new_content[i].unique()}\")"
      ],
      "execution_count": null,
      "outputs": []
    },
    {
      "cell_type": "code",
      "metadata": {
        "id": "SRhn_IX5_4o4",
        "colab_type": "code",
        "colab": {}
      },
      "source": [
        "len(new_content.where(new_content[\"Mortgage\"]==0).dropna())"
      ],
      "execution_count": null,
      "outputs": []
    },
    {
      "cell_type": "code",
      "metadata": {
        "id": "5jVNhJSGDUiy",
        "colab_type": "code",
        "colab": {}
      },
      "source": [
        "len(new_content.where(new_content[\"CCAvg\"]==0).dropna())"
      ],
      "execution_count": null,
      "outputs": []
    },
    {
      "cell_type": "code",
      "metadata": {
        "id": "jpQiLnUwGzv8",
        "colab_type": "code",
        "colab": {}
      },
      "source": [
        "education = new_content[\"Education\"].value_counts()\n",
        "features = [\"Securities Account\", \"CD Account\", \"Online\", \"CreditCard\"]\n",
        "yes_no = {0:\"No\", 1:\"Yes\"}\n",
        "degree = {1: \"Undergraduate\", 2: \"Graduate\", 3:\"Advanced/Professional\"}"
      ],
      "execution_count": 88,
      "outputs": []
    },
    {
      "cell_type": "code",
      "metadata": {
        "id": "qATAMJ_2HVOr",
        "colab_type": "code",
        "colab": {}
      },
      "source": [
        "print(\"Details of Customers opting for,\")\n",
        "for i in features:\n",
        "    print(f\"\\n{i}:\")\n",
        "    y_n = new_content[i].value_counts()\n",
        "    for j in y_n.index:\n",
        "        print(f\"{yes_no[j]}:\\t {y_n.loc[j]}\")\n",
        "print(\"\\nEducation levels of Customers are,\")\n",
        "for i in education.index:\n",
        "    print(f\"{degree[i]}: {education.loc[i]}\")"
      ],
      "execution_count": null,
      "outputs": []
    },
    {
      "cell_type": "code",
      "metadata": {
        "id": "gAzQB5XuMSbp",
        "colab_type": "code",
        "colab": {}
      },
      "source": [
        "print(new_content[\"Securities Account\"].value_counts())\n",
        "print(new_content[\"CD Account\"].value_counts())\n",
        "print(new_content[\"Online\"].value_counts())\n",
        "print(new_content[\"CreditCard\"].value_counts())\n"
      ],
      "execution_count": null,
      "outputs": []
    }
  ]
}