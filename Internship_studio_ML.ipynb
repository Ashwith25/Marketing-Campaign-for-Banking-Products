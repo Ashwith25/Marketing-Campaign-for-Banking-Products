{
  "nbformat": 4,
  "nbformat_minor": 0,
  "metadata": {
    "colab": {
      "name": "Internship_studio_ML",
      "provenance": [],
      "collapsed_sections": [],
      "mount_file_id": "1-vouF8nyQHJ2vbzzU8-w3541TtEPZvpU",
      "authorship_tag": "ABX9TyNN3e4mshgi+VmcKa4iE5AD",
      "include_colab_link": true
    },
    "kernelspec": {
      "name": "python3",
      "display_name": "Python 3"
    }
  },
  "cells": [
    {
      "cell_type": "markdown",
      "metadata": {
        "id": "view-in-github",
        "colab_type": "text"
      },
      "source": [
        "<a href=\"https://colab.research.google.com/github/Ashwith25/Marketing-Campaign-for-Banking-Products/blob/master/Internship_studio_ML.ipynb\" target=\"_parent\"><img src=\"https://colab.research.google.com/assets/colab-badge.svg\" alt=\"Open In Colab\"/></a>"
      ]
    },
    {
      "cell_type": "markdown",
      "metadata": {
        "id": "VEllk-qL5uDR",
        "colab_type": "text"
      },
      "source": [
        "# Marketing Campaign for Banking Products\n"
      ]
    },
    {
      "cell_type": "markdown",
      "metadata": {
        "id": "SLH1YK7TLwqG",
        "colab_type": "text"
      },
      "source": [
        "The bank has a growing customer base. The bank wants to increase borrowers (asset\n",
        "customers) base to bring in more loan business and earn more through the interest on\n",
        "loans. So , the bank wants to convert the liability based customers to personal loan\n",
        "customers. (while retaining them as depositors). A campaign that the bank ran last year\n",
        "for liability customers showed a healthy conversion rate of over 9% success. The\n",
        "department wants you to build a model that will help them identify the potential\n",
        "customers who have a higher probability of purchasing the loan. This will increase the\n",
        "success ratio while at the same time reduce the cost of the campaign."
      ]
    },
    {
      "cell_type": "markdown",
      "metadata": {
        "id": "inaDHhzeL5FA",
        "colab_type": "text"
      },
      "source": [
        "<b> To deal with this problem, we will split the process into 9 steps for better understanding.\n"
      ]
    },
    {
      "cell_type": "markdown",
      "metadata": {
        "id": "dT_pGr8OMDh4",
        "colab_type": "text"
      },
      "source": [
        "1. Import the datasets and libraries, check datatype, statistical summary, shape, null\n",
        "values etc"
      ]
    },
    {
      "cell_type": "markdown",
      "metadata": {
        "id": "u4_3_GjLMWFv",
        "colab_type": "text"
      },
      "source": [
        "We will be importing all the necessary libraries which will be required in our project.\n",
        "- numpy and pandas for data analysis.\n",
        "- matplotlib for drawing graphs"
      ]
    },
    {
      "cell_type": "code",
      "metadata": {
        "id": "kO4eLsQB5vpl",
        "colab_type": "code",
        "colab": {}
      },
      "source": [
        "import numpy as np\n",
        "import pandas as pd\n",
        "import matplotlib.pyplot as plot\n",
        "%matplotlib inline"
      ],
      "execution_count": 54,
      "outputs": []
    },
    {
      "cell_type": "markdown",
      "metadata": {
        "id": "FEvbJaZtMtEC",
        "colab_type": "text"
      },
      "source": [
        "Now we will be importing out CSV file which have the necessary data. Let's have a quick look on the data."
      ]
    },
    {
      "cell_type": "code",
      "metadata": {
        "id": "KabAhBFO6JCe",
        "colab_type": "code",
        "colab": {}
      },
      "source": [
        "content = pd.read_csv(\"/content/drive/My Drive/internship_studio_project.csv\")\n",
        "content.head()"
      ],
      "execution_count": null,
      "outputs": []
    },
    {
      "cell_type": "markdown",
      "metadata": {
        "id": "raVdWiGJMqwJ",
        "colab_type": "text"
      },
      "source": [
        "Now let's see if our data is completely/properly uploaded or not. This can be done either by looking at the shape or by looking at the end of the dataset.\n",
        "Let's first see the end of the dataset."
      ]
    },
    {
      "cell_type": "code",
      "metadata": {
        "id": "7CnQL8pj6pdM",
        "colab_type": "code",
        "colab": {}
      },
      "source": [
        "content.tail()"
      ],
      "execution_count": null,
      "outputs": []
    },
    {
      "cell_type": "markdown",
      "metadata": {
        "id": "mRKFhOSNPQwv",
        "colab_type": "text"
      },
      "source": [
        "To check the shape of the dataset, <b>shape</b> variable is used."
      ]
    },
    {
      "cell_type": "code",
      "metadata": {
        "id": "d0MlbeArAcM7",
        "colab_type": "code",
        "colab": {}
      },
      "source": [
        "content.shape"
      ],
      "execution_count": null,
      "outputs": []
    },
    {
      "cell_type": "markdown",
      "metadata": {
        "id": "3N2hGkA4NZVK",
        "colab_type": "text"
      },
      "source": [
        "It is necessary to initially check if all the data is proper or not. This we can do using <b>describe()</b>. This returns us all the necessary data such as mean, standard deviation, min, max, etc. "
      ]
    },
    {
      "cell_type": "code",
      "metadata": {
        "id": "6OHZ-ugD7IqZ",
        "colab_type": "code",
        "colab": {}
      },
      "source": [
        "content.describe()"
      ],
      "execution_count": null,
      "outputs": []
    },
    {
      "cell_type": "markdown",
      "metadata": {
        "id": "ONQn5jnkOI_S",
        "colab_type": "text"
      },
      "source": [
        "As we can see in the _Experience_ column, the <b>min</b> value is -3 which is not possible. This indicates that the cleaning of the data must be done. \n",
        "\n",
        "In a similar way as that of <b>describe()</b>, we can also see the datatypes and non-null value count by using an in-built function called <b>info()</b>. This will return the count of non-null values along with the datatype of thaat particular column."
      ]
    },
    {
      "cell_type": "code",
      "metadata": {
        "id": "C2_6ldrI7Mam",
        "colab_type": "code",
        "colab": {}
      },
      "source": [
        "content.info()"
      ],
      "execution_count": null,
      "outputs": []
    },
    {
      "cell_type": "markdown",
      "metadata": {
        "id": "HNwxxSqCPeCh",
        "colab_type": "text"
      },
      "source": [
        "This completes our 1st step. All the necessary libraries are imported. We saw what all are the attributes of our Columns, based upon which some decisons were also taken where cleaning of the data is to be done as the _Experience_ column had some wrong data. \n",
        "\n"
      ]
    },
    {
      "cell_type": "markdown",
      "metadata": {
        "id": "hbuVEEt6Ra1_",
        "colab_type": "text"
      },
      "source": [
        "Now let's move onto our 2nd step."
      ]
    },
    {
      "cell_type": "markdown",
      "metadata": {
        "id": "1PkDhQSXRf_x",
        "colab_type": "text"
      },
      "source": [
        "2. Check if you need to clean the data for any of the variables"
      ]
    },
    {
      "cell_type": "markdown",
      "metadata": {
        "id": "y9VIuYdLRjdh",
        "colab_type": "text"
      },
      "source": [
        "Firstly, let's first remove all the data which had wrong _Experience_.</br>\n",
        "This we will be storing in a new variable."
      ]
    },
    {
      "cell_type": "code",
      "metadata": {
        "id": "h_3cPRBCAalO",
        "colab_type": "code",
        "colab": {}
      },
      "source": [
        "new_content = content.where(content[\"Experience\"]>=0)"
      ],
      "execution_count": 106,
      "outputs": []
    },
    {
      "cell_type": "markdown",
      "metadata": {
        "id": "p6ASyzCBSBHF",
        "colab_type": "text"
      },
      "source": [
        "Now let's see if our data is ready to be used or not by using <b>describe()</b> as used earlier."
      ]
    },
    {
      "cell_type": "code",
      "metadata": {
        "id": "R92p-ZrZJ4W6",
        "colab_type": "code",
        "colab": {}
      },
      "source": [
        "new_content.describe()"
      ],
      "execution_count": null,
      "outputs": []
    },
    {
      "cell_type": "markdown",
      "metadata": {
        "id": "rfY6PnPrSah4",
        "colab_type": "text"
      },
      "source": [
        "As our aim is to predict whether a customer would opt for _Personal Loan_ or not, we will separate it from our dataset and store it in some other variable.<br>\n",
        "The deletion of a column can be done using <b>drop()</b>. The _axis_ is set to 1 as the iteration is to be done on a column. The _inplace_ parameter saves the changes to the original dataset."
      ]
    },
    {
      "cell_type": "code",
      "metadata": {
        "id": "oD3Ss7Np7Pof",
        "colab_type": "code",
        "colab": {}
      },
      "source": [
        "personal_loan = new_content[\"Personal Loan\"]\n",
        "new_content.drop(\"Personal Loan\", axis=1, inplace=True)"
      ],
      "execution_count": null,
      "outputs": []
    },
    {
      "cell_type": "markdown",
      "metadata": {
        "id": "pLAx6DeSTb2j",
        "colab_type": "text"
      },
      "source": [
        "As _ID_ will be different for each customer, it has nothing to with the customer taking the loan. So it is acting as noise in our dataset. Hence it will be better if removed. <br><br>\n",
        "To check the significance of a column, we can check their correlation factor."
      ]
    },
    {
      "cell_type": "code",
      "metadata": {
        "id": "cRQ9bKuH-qfO",
        "colab_type": "code",
        "colab": {}
      },
      "source": [
        "for i in new_content.columns:\n",
        "    print(f\"Correlation between {i} and Personal Loan is\",new_content[i].corr(personal_loan))"
      ],
      "execution_count": null,
      "outputs": []
    },
    {
      "cell_type": "code",
      "metadata": {
        "id": "caMxSgkBLZwq",
        "colab_type": "code",
        "colab": {}
      },
      "source": [
        ""
      ],
      "execution_count": null,
      "outputs": []
    },
    {
      "cell_type": "markdown",
      "metadata": {
        "id": "9KAPEoLwUgB5",
        "colab_type": "text"
      },
      "source": [
        "As we can see, _ID, Age_ and _Experience_ are hardly even related to our target variable. _Income_ plays a important role in customer taking the peprsonal loan. So we can drop the noisy columns (_ID, Age_ and _Experience_) to make our prediction for efficient."
      ]
    },
    {
      "cell_type": "code",
      "metadata": {
        "id": "7Yf8adJKVZvb",
        "colab_type": "code",
        "colab": {}
      },
      "source": [
        "new_content.drop([\"ID\", \"Age\", \"Experience\"], axis=1, inplace=True)\n",
        "new_content"
      ],
      "execution_count": null,
      "outputs": []
    }
  ]
}